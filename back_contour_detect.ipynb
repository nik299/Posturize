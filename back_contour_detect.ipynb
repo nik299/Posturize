{
 "cells": [
  {
   "cell_type": "code",
   "execution_count": 1,
   "metadata": {},
   "outputs": [
    {
     "name": "stdout",
     "output_type": "stream",
     "text": [
      "(225, 225, 3)\n"
     ]
    }
   ],
   "source": [
    "\n",
    "# import the necessary packages\n",
    "import imutils\n",
    "import cv2\n",
    "import matplotlib\n",
    "import matplotlib.pyplot as plt\n",
    "import numpy as np\n",
    "import statistics\n",
    "# load the image, convert it to grayscale, and blur it slightly\n",
    "image = cv2.imread(\"/home/pruthvirg/Downloads/image(4).png\")\n",
    "print(image.shape)\n",
    "gray = cv2.cvtColor(image, cv2.COLOR_BGR2GRAY)\n",
    "gray = cv2.GaussianBlur(gray, (5, 5), 0)\n",
    " \n",
    "# threshold the image, then perform a series of erosions +\n",
    "# dilations to remove any small regions of noise\n",
    "thresh = cv2.threshold(gray, 45, 255, cv2.THRESH_BINARY)[1]\n",
    "thresh = cv2.erode(thresh, None, iterations=4)\n",
    "thresh = cv2.dilate(thresh, None, iterations=4)\n",
    " \n",
    "# find contours in thresholded image, then grab the largest\n",
    "# one\n",
    "im2, contours, hierarchy= cv2.findContours(thresh.copy(), cv2.RETR_EXTERNAL,cv2.CHAIN_APPROX_SIMPLE)"
   ]
  },
  {
   "cell_type": "code",
   "execution_count": 2,
   "metadata": {},
   "outputs": [
    {
     "name": "stdout",
     "output_type": "stream",
     "text": [
      "[[[ 70   9]]\n",
      "\n",
      " [[ 69  10]]\n",
      "\n",
      " [[ 67  10]]\n",
      "\n",
      " [[ 66  11]]\n",
      "\n",
      " [[ 65  11]]\n",
      "\n",
      " [[ 64  12]]\n",
      "\n",
      " [[ 63  12]]\n",
      "\n",
      " [[ 63  13]]\n",
      "\n",
      " [[ 61  15]]\n",
      "\n",
      " [[ 61  16]]\n",
      "\n",
      " [[ 60  17]]\n",
      "\n",
      " [[ 60  18]]\n",
      "\n",
      " [[ 59  19]]\n",
      "\n",
      " [[ 59  30]]\n",
      "\n",
      " [[ 60  31]]\n",
      "\n",
      " [[ 60  32]]\n",
      "\n",
      " [[ 62  34]]\n",
      "\n",
      " [[ 62  35]]\n",
      "\n",
      " [[ 64  37]]\n",
      "\n",
      " [[ 64  38]]\n",
      "\n",
      " [[ 65  39]]\n",
      "\n",
      " [[ 65  40]]\n",
      "\n",
      " [[ 61  44]]\n",
      "\n",
      " [[ 61  48]]\n",
      "\n",
      " [[ 57  52]]\n",
      "\n",
      " [[ 56  52]]\n",
      "\n",
      " [[ 52  56]]\n",
      "\n",
      " [[ 52  57]]\n",
      "\n",
      " [[ 50  59]]\n",
      "\n",
      " [[ 50  60]]\n",
      "\n",
      " [[ 49  61]]\n",
      "\n",
      " [[ 49  62]]\n",
      "\n",
      " [[ 48  63]]\n",
      "\n",
      " [[ 48  64]]\n",
      "\n",
      " [[ 47  65]]\n",
      "\n",
      " [[ 47  67]]\n",
      "\n",
      " [[ 46  68]]\n",
      "\n",
      " [[ 46  70]]\n",
      "\n",
      " [[ 45  71]]\n",
      "\n",
      " [[ 45  95]]\n",
      "\n",
      " [[ 46  96]]\n",
      "\n",
      " [[ 46 100]]\n",
      "\n",
      " [[ 47 101]]\n",
      "\n",
      " [[ 47 104]]\n",
      "\n",
      " [[ 48 105]]\n",
      "\n",
      " [[ 48 107]]\n",
      "\n",
      " [[ 49 108]]\n",
      "\n",
      " [[ 49 111]]\n",
      "\n",
      " [[ 50 112]]\n",
      "\n",
      " [[ 50 115]]\n",
      "\n",
      " [[ 51 116]]\n",
      "\n",
      " [[ 51 118]]\n",
      "\n",
      " [[ 52 119]]\n",
      "\n",
      " [[ 52 128]]\n",
      "\n",
      " [[ 51 129]]\n",
      "\n",
      " [[ 51 131]]\n",
      "\n",
      " [[ 50 132]]\n",
      "\n",
      " [[ 50 133]]\n",
      "\n",
      " [[ 49 134]]\n",
      "\n",
      " [[ 49 135]]\n",
      "\n",
      " [[ 48 136]]\n",
      "\n",
      " [[ 48 138]]\n",
      "\n",
      " [[ 47 139]]\n",
      "\n",
      " [[ 47 147]]\n",
      "\n",
      " [[ 63 147]]\n",
      "\n",
      " [[ 64 148]]\n",
      "\n",
      " [[ 67 148]]\n",
      "\n",
      " [[ 68 149]]\n",
      "\n",
      " [[ 72 149]]\n",
      "\n",
      " [[ 73 150]]\n",
      "\n",
      " [[ 79 150]]\n",
      "\n",
      " [[ 80 151]]\n",
      "\n",
      " [[ 87 151]]\n",
      "\n",
      " [[ 88 152]]\n",
      "\n",
      " [[ 99 152]]\n",
      "\n",
      " [[100 153]]\n",
      "\n",
      " [[106 153]]\n",
      "\n",
      " [[107 154]]\n",
      "\n",
      " [[112 154]]\n",
      "\n",
      " [[113 155]]\n",
      "\n",
      " [[115 155]]\n",
      "\n",
      " [[116 156]]\n",
      "\n",
      " [[118 156]]\n",
      "\n",
      " [[119 157]]\n",
      "\n",
      " [[120 157]]\n",
      "\n",
      " [[122 159]]\n",
      "\n",
      " [[122 184]]\n",
      "\n",
      " [[121 185]]\n",
      "\n",
      " [[121 197]]\n",
      "\n",
      " [[120 198]]\n",
      "\n",
      " [[120 199]]\n",
      "\n",
      " [[119 200]]\n",
      "\n",
      " [[119 209]]\n",
      "\n",
      " [[120 210]]\n",
      "\n",
      " [[120 211]]\n",
      "\n",
      " [[121 212]]\n",
      "\n",
      " [[121 214]]\n",
      "\n",
      " [[122 215]]\n",
      "\n",
      " [[132 215]]\n",
      "\n",
      " [[133 214]]\n",
      "\n",
      " [[134 214]]\n",
      "\n",
      " [[136 212]]\n",
      "\n",
      " [[146 212]]\n",
      "\n",
      " [[147 211]]\n",
      "\n",
      " [[149 211]]\n",
      "\n",
      " [[150 210]]\n",
      "\n",
      " [[166 210]]\n",
      "\n",
      " [[167 209]]\n",
      "\n",
      " [[168 209]]\n",
      "\n",
      " [[169 208]]\n",
      "\n",
      " [[170 208]]\n",
      "\n",
      " [[171 207]]\n",
      "\n",
      " [[172 207]]\n",
      "\n",
      " [[173 206]]\n",
      "\n",
      " [[174 206]]\n",
      "\n",
      " [[175 205]]\n",
      "\n",
      " [[176 205]]\n",
      "\n",
      " [[177 204]]\n",
      "\n",
      " [[177 196]]\n",
      "\n",
      " [[171 196]]\n",
      "\n",
      " [[170 195]]\n",
      "\n",
      " [[163 195]]\n",
      "\n",
      " [[161 193]]\n",
      "\n",
      " [[161 191]]\n",
      "\n",
      " [[160 190]]\n",
      "\n",
      " [[160 188]]\n",
      "\n",
      " [[159 187]]\n",
      "\n",
      " [[159 184]]\n",
      "\n",
      " [[158 183]]\n",
      "\n",
      " [[158 180]]\n",
      "\n",
      " [[157 179]]\n",
      "\n",
      " [[157 171]]\n",
      "\n",
      " [[156 170]]\n",
      "\n",
      " [[156 159]]\n",
      "\n",
      " [[155 158]]\n",
      "\n",
      " [[155 151]]\n",
      "\n",
      " [[154 150]]\n",
      "\n",
      " [[154 146]]\n",
      "\n",
      " [[153 145]]\n",
      "\n",
      " [[153 144]]\n",
      "\n",
      " [[152 143]]\n",
      "\n",
      " [[152 142]]\n",
      "\n",
      " [[149 139]]\n",
      "\n",
      " [[148 139]]\n",
      "\n",
      " [[147 138]]\n",
      "\n",
      " [[147 137]]\n",
      "\n",
      " [[143 133]]\n",
      "\n",
      " [[142 133]]\n",
      "\n",
      " [[141 132]]\n",
      "\n",
      " [[139 132]]\n",
      "\n",
      " [[138 131]]\n",
      "\n",
      " [[136 131]]\n",
      "\n",
      " [[135 130]]\n",
      "\n",
      " [[134 130]]\n",
      "\n",
      " [[133 129]]\n",
      "\n",
      " [[132 129]]\n",
      "\n",
      " [[130 127]]\n",
      "\n",
      " [[129 127]]\n",
      "\n",
      " [[124 122]]\n",
      "\n",
      " [[123 122]]\n",
      "\n",
      " [[122 121]]\n",
      "\n",
      " [[120 121]]\n",
      "\n",
      " [[119 120]]\n",
      "\n",
      " [[117 120]]\n",
      "\n",
      " [[116 119]]\n",
      "\n",
      " [[115 119]]\n",
      "\n",
      " [[114 118]]\n",
      "\n",
      " [[113 118]]\n",
      "\n",
      " [[112 117]]\n",
      "\n",
      " [[111 117]]\n",
      "\n",
      " [[110 116]]\n",
      "\n",
      " [[109 116]]\n",
      "\n",
      " [[108 115]]\n",
      "\n",
      " [[107 115]]\n",
      "\n",
      " [[106 114]]\n",
      "\n",
      " [[104 114]]\n",
      "\n",
      " [[103 113]]\n",
      "\n",
      " [[102 113]]\n",
      "\n",
      " [[101 112]]\n",
      "\n",
      " [[101 106]]\n",
      "\n",
      " [[100 105]]\n",
      "\n",
      " [[100 104]]\n",
      "\n",
      " [[ 98 102]]\n",
      "\n",
      " [[ 98  90]]\n",
      "\n",
      " [[ 97  89]]\n",
      "\n",
      " [[ 97  86]]\n",
      "\n",
      " [[ 96  85]]\n",
      "\n",
      " [[ 96  81]]\n",
      "\n",
      " [[ 95  80]]\n",
      "\n",
      " [[ 95  78]]\n",
      "\n",
      " [[ 94  77]]\n",
      "\n",
      " [[ 94  76]]\n",
      "\n",
      " [[ 93  75]]\n",
      "\n",
      " [[ 93  74]]\n",
      "\n",
      " [[ 92  73]]\n",
      "\n",
      " [[ 92  72]]\n",
      "\n",
      " [[ 91  71]]\n",
      "\n",
      " [[ 91  70]]\n",
      "\n",
      " [[ 90  69]]\n",
      "\n",
      " [[ 90  68]]\n",
      "\n",
      " [[ 89  67]]\n",
      "\n",
      " [[ 89  64]]\n",
      "\n",
      " [[ 88  63]]\n",
      "\n",
      " [[ 88  62]]\n",
      "\n",
      " [[ 87  61]]\n",
      "\n",
      " [[ 87  58]]\n",
      "\n",
      " [[ 86  57]]\n",
      "\n",
      " [[ 86  56]]\n",
      "\n",
      " [[ 85  55]]\n",
      "\n",
      " [[ 85  52]]\n",
      "\n",
      " [[ 84  51]]\n",
      "\n",
      " [[ 85  50]]\n",
      "\n",
      " [[ 85  48]]\n",
      "\n",
      " [[ 87  46]]\n",
      "\n",
      " [[ 90  46]]\n",
      "\n",
      " [[ 91  45]]\n",
      "\n",
      " [[ 93  45]]\n",
      "\n",
      " [[ 93  44]]\n",
      "\n",
      " [[ 94  43]]\n",
      "\n",
      " [[ 94  40]]\n",
      "\n",
      " [[ 95  39]]\n",
      "\n",
      " [[ 95  29]]\n",
      "\n",
      " [[ 94  28]]\n",
      "\n",
      " [[ 94  27]]\n",
      "\n",
      " [[ 93  26]]\n",
      "\n",
      " [[ 93  23]]\n",
      "\n",
      " [[ 92  22]]\n",
      "\n",
      " [[ 92  15]]\n",
      "\n",
      " [[ 91  14]]\n",
      "\n",
      " [[ 91  13]]\n",
      "\n",
      " [[ 89  11]]\n",
      "\n",
      " [[ 88  11]]\n",
      "\n",
      " [[ 87  10]]\n",
      "\n",
      " [[ 86  10]]\n",
      "\n",
      " [[ 85   9]]]\n"
     ]
    }
   ],
   "source": [
    "print(contours[0])"
   ]
  },
  {
   "cell_type": "code",
   "execution_count": 3,
   "metadata": {},
   "outputs": [
    {
     "data": {
      "image/png": "[encoded data removed]",
      "text/plain": [
       "<Figure size 432x288 with 1 Axes>"
      ]
     },
     "metadata": {},
     "output_type": "display_data"
    }
   ],
   "source": [
    "imgplot = plt.imshow(im2)"
   ]
  },
  {
   "cell_type": "code",
   "execution_count": 4,
   "metadata": {},
   "outputs": [],
   "source": [
    "contours_list = list(contours)"
   ]
  },
  {
   "cell_type": "code",
   "execution_count": 5,
   "metadata": {},
   "outputs": [
    {
     "data": {
      "text/plain": [
       "array([69, 10], dtype=int32)"
      ]
     },
     "execution_count": 5,
     "metadata": {},
     "output_type": "execute_result"
    }
   ],
   "source": [
    "contours_list[0][1][0]"
   ]
  },
  {
   "cell_type": "code",
   "execution_count": 6,
   "metadata": {},
   "outputs": [],
   "source": [
    "c = max(contours, key=cv2.contourArea)"
   ]
  },
  {
   "cell_type": "code",
   "execution_count": 7,
   "metadata": {},
   "outputs": [],
   "source": [
    "\n",
    "# determine the most extreme points along the contour\n",
    "extLeft = tuple(c[c[:, :, 0].argmin()][0])\n",
    "extRight = tuple(c[c[:, :, 0].argmax()][0])\n",
    "extTop = tuple(c[c[:, :, 1].argmin()][0])\n",
    "extBot = tuple(c[c[:, :, 1].argmax()][0])"
   ]
  },
  {
   "cell_type": "code",
   "execution_count": 8,
   "metadata": {},
   "outputs": [
    {
     "data": {
      "text/plain": [
       "(70, 9)"
      ]
     },
     "execution_count": 8,
     "metadata": {},
     "output_type": "execute_result"
    }
   ],
   "source": [
    "extTop"
   ]
  },
  {
   "cell_type": "code",
   "execution_count": 9,
   "metadata": {},
   "outputs": [
    {
     "data": {
      "text/plain": [
       "(177, 204)"
      ]
     },
     "execution_count": 9,
     "metadata": {},
     "output_type": "execute_result"
    }
   ],
   "source": [
    "extRight"
   ]
  },
  {
   "cell_type": "code",
   "execution_count": 10,
   "metadata": {},
   "outputs": [],
   "source": [
    "\n",
    "# draw the outline of the object, then draw each of the\n",
    "# extreme points, where the left-most is red, right-most\n",
    "# is green, top-most is blue, and bottom-most is teal\n",
    "cv2.drawContours(image, [c], -1, (0, 255, 255), 2)\n",
    "cv2.circle(image, extLeft, 8, (0, 0, 255), -1)\n",
    "cv2.circle(image, extRight, 8, (0, 255, 0), -1)\n",
    "cv2.circle(image, extTop, 8, (255, 0, 0), -1)\n",
    "cv2.circle(image, extBot, 8, (255, 255, 0), -1)\n",
    " \n",
    "# show the output image\n",
    "cv2.imshow(\"Image\", image)\n",
    "cv2.waitKey(0)\n",
    "cv2.destroyAllWindows()"
   ]
  },
  {
   "cell_type": "code",
   "execution_count": 11,
   "metadata": {},
   "outputs": [],
   "source": [
    "blank = int(extTop[1])"
   ]
  },
  {
   "cell_type": "code",
   "execution_count": 12,
   "metadata": {},
   "outputs": [],
   "source": [
    "body = image[blank:-100]\n",
    "neck = body[0:int(0.35*len(body))]\n",
    "back = body[int(0.35*len(body)):]\n",
    "full_cut = blank+int(0.35*len(body))"
   ]
  },
  {
   "cell_type": "code",
   "execution_count": 13,
   "metadata": {},
   "outputs": [
    {
     "name": "stdout",
     "output_type": "stream",
     "text": [
      "49\n"
     ]
    }
   ],
   "source": [
    "print(full_cut)"
   ]
  },
  {
   "cell_type": "code",
   "execution_count": 14,
   "metadata": {},
   "outputs": [],
   "source": [
    "cv2.imshow(\"Neck\",neck)\n",
    "cv2.waitKey(0)\n",
    "cv2.destroyAllWindows()\n",
    "\n",
    "\n",
    "cv2.imshow(\"back\",back)\n",
    "cv2.waitKey(0)\n",
    "cv2.destroyAllWindows()"
   ]
  },
  {
   "cell_type": "code",
   "execution_count": 15,
   "metadata": {},
   "outputs": [],
   "source": [
    "cont_list = np.ndarray.tolist(contours[0])"
   ]
  },
  {
   "cell_type": "code",
   "execution_count": 16,
   "metadata": {},
   "outputs": [
    {
     "data": {
      "text/plain": [
       "list"
      ]
     },
     "execution_count": 16,
     "metadata": {},
     "output_type": "execute_result"
    }
   ],
   "source": [
    "type(cont_list[0][0])"
   ]
  },
  {
   "cell_type": "code",
   "execution_count": 17,
   "metadata": {},
   "outputs": [],
   "source": [
    "back_point_list = []"
   ]
  },
  {
   "cell_type": "code",
   "execution_count": 18,
   "metadata": {},
   "outputs": [
    {
     "data": {
      "text/plain": [
       "225"
      ]
     },
     "execution_count": 18,
     "metadata": {},
     "output_type": "execute_result"
    }
   ],
   "source": [
    "len(image)"
   ]
  },
  {
   "cell_type": "code",
   "execution_count": 19,
   "metadata": {},
   "outputs": [],
   "source": [
    "for i in cont_list:\n",
    "    if i[0][1] > len(image)-100:\n",
    "        break\n",
    "        print(\"broke\")\n",
    "    if i[0][1] > 36:\n",
    "        back_point_list.append(i[0][0])"
   ]
  },
  {
   "cell_type": "code",
   "execution_count": 20,
   "metadata": {},
   "outputs": [
    {
     "data": {
      "text/plain": [
       "[64,\n",
       " 64,\n",
       " 65,\n",
       " 65,\n",
       " 61,\n",
       " 61,\n",
       " 57,\n",
       " 56,\n",
       " 52,\n",
       " 52,\n",
       " 50,\n",
       " 50,\n",
       " 49,\n",
       " 49,\n",
       " 48,\n",
       " 48,\n",
       " 47,\n",
       " 47,\n",
       " 46,\n",
       " 46,\n",
       " 45,\n",
       " 45,\n",
       " 46,\n",
       " 46,\n",
       " 47,\n",
       " 47,\n",
       " 48,\n",
       " 48,\n",
       " 49,\n",
       " 49,\n",
       " 50,\n",
       " 50,\n",
       " 51,\n",
       " 51,\n",
       " 52]"
      ]
     },
     "execution_count": 20,
     "metadata": {},
     "output_type": "execute_result"
    }
   ],
   "source": [
    "back_point_list"
   ]
  },
  {
   "cell_type": "code",
   "execution_count": 21,
   "metadata": {
    "scrolled": true
   },
   "outputs": [
    {
     "data": {
      "text/plain": [
       "[<matplotlib.lines.Line2D at 0x7ff2c73822e8>]"
      ]
     },
     "execution_count": 21,
     "metadata": {},
     "output_type": "execute_result"
    },
    {
     "data": {
      "image/png": "[encoded data removed]",
      "text/plain": [
       "<Figure size 432x288 with 1 Axes>"
      ]
     },
     "metadata": {},
     "output_type": "display_data"
    }
   ],
   "source": [
    "plt.plot(back_point_list)\n",
    "    "
   ]
  },
  {
   "cell_type": "code",
   "execution_count": 22,
   "metadata": {},
   "outputs": [
    {
     "data": {
      "text/plain": [
       "6.132569066985266"
      ]
     },
     "execution_count": 22,
     "metadata": {},
     "output_type": "execute_result"
    }
   ],
   "source": [
    "statistics.stdev(back_point_list)"
   ]
  },
  {
   "cell_type": "code",
   "execution_count": 23,
   "metadata": {},
   "outputs": [
    {
     "data": {
      "text/plain": [
       "array([[0, 0, 0, ..., 0, 0, 0],\n",
       "       [0, 0, 0, ..., 0, 0, 0],\n",
       "       [0, 0, 0, ..., 0, 0, 0],\n",
       "       ...,\n",
       "       [0, 0, 0, ..., 0, 0, 0],\n",
       "       [0, 0, 0, ..., 0, 0, 0],\n",
       "       [0, 0, 0, ..., 0, 0, 0]], dtype=uint8)"
      ]
     },
     "execution_count": 23,
     "metadata": {},
     "output_type": "execute_result"
    }
   ],
   "source": [
    "cv2.line(im2,(45,0),(45,225),(255,0,0),1)"
   ]
  },
  {
   "cell_type": "code",
   "execution_count": 24,
   "metadata": {},
   "outputs": [
    {
     "data": {
      "text/plain": [
       "<matplotlib.image.AxesImage at 0x7ff2c72f27f0>"
      ]
     },
     "execution_count": 24,
     "metadata": {},
     "output_type": "execute_result"
    },
    {
     "data": {
      "image/png": "[encoded data removed]",
      "text/plain": [
       "<Figure size 432x288 with 1 Axes>"
      ]
     },
     "metadata": {},
     "output_type": "display_data"
    }
   ],
   "source": [
    "plt.imshow(im2)"
   ]
  },
  {
   "cell_type": "code",
   "execution_count": 25,
   "metadata": {},
   "outputs": [],
   "source": [
    "square_sum = 0\n",
    "for i in back_point_list:\n",
    "    square_sum = square_sum + (i-45)*(i-45)"
   ]
  },
  {
   "cell_type": "code",
   "execution_count": 26,
   "metadata": {},
   "outputs": [],
   "source": [
    "back_lenght = len(back_point_list)"
   ]
  },
  {
   "cell_type": "code",
   "execution_count": 27,
   "metadata": {},
   "outputs": [
    {
     "name": "stdout",
     "output_type": "stream",
     "text": [
      "78.22857142857143\n"
     ]
    }
   ],
   "source": [
    "print(square_sum/(back_lenght))"
   ]
  },
  {
   "cell_type": "code",
   "execution_count": null,
   "metadata": {},
   "outputs": [],
   "source": []
  }
 ],
 "metadata": {
  "kernelspec": {
   "display_name": "Python 3",
   "language": "python",
   "name": "python3"
  },
  "language_info": {
   "codemirror_mode": {
    "name": "ipython",
    "version": 3
   },
   "file_extension": ".py",
   "mimetype": "text/x-python",
   "name": "python",
   "nbconvert_exporter": "python",
   "pygments_lexer": "ipython3",
   "version": "3.6.6"
  }
 },
 "nbformat": 4,
 "nbformat_minor": 2
}
