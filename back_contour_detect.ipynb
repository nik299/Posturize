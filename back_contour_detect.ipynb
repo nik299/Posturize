{
 "cells": [
  {
   "cell_type": "code",
   "execution_count": 167,
   "metadata": {},
   "outputs": [
    {
     "name": "stdout",
     "output_type": "stream",
     "text": [
      "(318, 322, 3)\n"
     ]
    }
   ],
   "source": [
    "\n",
    "# import the necessary packages\n",
    "import imutils\n",
    "import cv2\n",
    "import matplotlib\n",
    "import matplotlib.pyplot as plt\n",
    "import numpy as np\n",
    "import statistics\n",
    "# load the image, convert it to grayscale, and blur it slightly\n",
    "image = cv2.imread(\"/home/pruthvirg/vertical_image.png\")\n",
    "print(image.shape)\n",
    "gray = cv2.cvtColor(image, cv2.COLOR_BGR2GRAY)\n",
    "gray = cv2.GaussianBlur(gray, (5, 5), 0)\n",
    " \n",
    "# threshold the image, then perform a series of erosions +\n",
    "# dilations to remove any small regions of noise\n",
    "thresh = cv2.threshold(gray, 45, 255, cv2.THRESH_BINARY)[1]\n",
    "thresh = cv2.erode(thresh, None, iterations=4)\n",
    "thresh = cv2.dilate(thresh, None, iterations=4)\n",
    " \n",
    "# find contours in thresholded image, then grab the largest\n",
    "# one\n",
    "im2, contours, hierarchy= cv2.findContours(thresh.copy(), cv2.RETR_EXTERNAL,cv2.CHAIN_APPROX_SIMPLE)"
   ]
  },
  {
   "cell_type": "code",
   "execution_count": 168,
   "metadata": {},
   "outputs": [
    {
     "name": "stdout",
     "output_type": "stream",
     "text": [
      "[[[153  32]]\n",
      "\n",
      " [[153  34]]\n",
      "\n",
      " [[152  35]]\n",
      "\n",
      " [[152  38]]\n",
      "\n",
      " [[151  39]]\n",
      "\n",
      " [[150  39]]\n",
      "\n",
      " [[149  38]]\n",
      "\n",
      " [[149  37]]\n",
      "\n",
      " [[148  36]]\n",
      "\n",
      " [[148  35]]\n",
      "\n",
      " [[140  35]]\n",
      "\n",
      " [[138  37]]\n",
      "\n",
      " [[138  47]]\n",
      "\n",
      " [[139  48]]\n",
      "\n",
      " [[139  54]]\n",
      "\n",
      " [[140  55]]\n",
      "\n",
      " [[140  88]]\n",
      "\n",
      " [[141  89]]\n",
      "\n",
      " [[141  94]]\n",
      "\n",
      " [[142  95]]\n",
      "\n",
      " [[142  98]]\n",
      "\n",
      " [[143  99]]\n",
      "\n",
      " [[143 100]]\n",
      "\n",
      " [[146 103]]\n",
      "\n",
      " [[147 103]]\n",
      "\n",
      " [[148 104]]\n",
      "\n",
      " [[149 104]]\n",
      "\n",
      " [[151 106]]\n",
      "\n",
      " [[152 106]]\n",
      "\n",
      " [[153 107]]\n",
      "\n",
      " [[154 107]]\n",
      "\n",
      " [[156 109]]\n",
      "\n",
      " [[157 109]]\n",
      "\n",
      " [[158 110]]\n",
      "\n",
      " [[159 110]]\n",
      "\n",
      " [[161 112]]\n",
      "\n",
      " [[161 113]]\n",
      "\n",
      " [[163 115]]\n",
      "\n",
      " [[163 116]]\n",
      "\n",
      " [[164 117]]\n",
      "\n",
      " [[164 119]]\n",
      "\n",
      " [[165 120]]\n",
      "\n",
      " [[165 122]]\n",
      "\n",
      " [[166 123]]\n",
      "\n",
      " [[166 125]]\n",
      "\n",
      " [[167 126]]\n",
      "\n",
      " [[167 128]]\n",
      "\n",
      " [[168 129]]\n",
      "\n",
      " [[168 132]]\n",
      "\n",
      " [[169 133]]\n",
      "\n",
      " [[169 135]]\n",
      "\n",
      " [[170 136]]\n",
      "\n",
      " [[170 145]]\n",
      "\n",
      " [[169 146]]\n",
      "\n",
      " [[169 150]]\n",
      "\n",
      " [[168 151]]\n",
      "\n",
      " [[168 174]]\n",
      "\n",
      " [[167 175]]\n",
      "\n",
      " [[167 186]]\n",
      "\n",
      " [[166 187]]\n",
      "\n",
      " [[166 190]]\n",
      "\n",
      " [[165 191]]\n",
      "\n",
      " [[165 193]]\n",
      "\n",
      " [[164 194]]\n",
      "\n",
      " [[164 198]]\n",
      "\n",
      " [[163 199]]\n",
      "\n",
      " [[163 203]]\n",
      "\n",
      " [[162 204]]\n",
      "\n",
      " [[162 208]]\n",
      "\n",
      " [[161 209]]\n",
      "\n",
      " [[161 213]]\n",
      "\n",
      " [[160 214]]\n",
      "\n",
      " [[160 217]]\n",
      "\n",
      " [[159 218]]\n",
      "\n",
      " [[159 221]]\n",
      "\n",
      " [[158 222]]\n",
      "\n",
      " [[158 224]]\n",
      "\n",
      " [[157 225]]\n",
      "\n",
      " [[157 228]]\n",
      "\n",
      " [[156 229]]\n",
      "\n",
      " [[156 232]]\n",
      "\n",
      " [[155 233]]\n",
      "\n",
      " [[155 237]]\n",
      "\n",
      " [[154 238]]\n",
      "\n",
      " [[154 240]]\n",
      "\n",
      " [[153 241]]\n",
      "\n",
      " [[153 244]]\n",
      "\n",
      " [[152 245]]\n",
      "\n",
      " [[152 248]]\n",
      "\n",
      " [[151 249]]\n",
      "\n",
      " [[151 252]]\n",
      "\n",
      " [[150 253]]\n",
      "\n",
      " [[150 255]]\n",
      "\n",
      " [[149 256]]\n",
      "\n",
      " [[149 258]]\n",
      "\n",
      " [[148 259]]\n",
      "\n",
      " [[148 262]]\n",
      "\n",
      " [[147 263]]\n",
      "\n",
      " [[147 266]]\n",
      "\n",
      " [[146 267]]\n",
      "\n",
      " [[146 271]]\n",
      "\n",
      " [[145 272]]\n",
      "\n",
      " [[145 275]]\n",
      "\n",
      " [[144 276]]\n",
      "\n",
      " [[144 279]]\n",
      "\n",
      " [[143 280]]\n",
      "\n",
      " [[143 285]]\n",
      "\n",
      " [[142 286]]\n",
      "\n",
      " [[142 294]]\n",
      "\n",
      " [[141 295]]\n",
      "\n",
      " [[141 307]]\n",
      "\n",
      " [[142 308]]\n",
      "\n",
      " [[142 309]]\n",
      "\n",
      " [[150 309]]\n",
      "\n",
      " [[154 305]]\n",
      "\n",
      " [[155 305]]\n",
      "\n",
      " [[161 299]]\n",
      "\n",
      " [[162 299]]\n",
      "\n",
      " [[167 294]]\n",
      "\n",
      " [[168 294]]\n",
      "\n",
      " [[173 289]]\n",
      "\n",
      " [[174 289]]\n",
      "\n",
      " [[179 284]]\n",
      "\n",
      " [[180 284]]\n",
      "\n",
      " [[185 279]]\n",
      "\n",
      " [[186 279]]\n",
      "\n",
      " [[192 273]]\n",
      "\n",
      " [[193 273]]\n",
      "\n",
      " [[198 268]]\n",
      "\n",
      " [[199 268]]\n",
      "\n",
      " [[204 263]]\n",
      "\n",
      " [[205 263]]\n",
      "\n",
      " [[211 257]]\n",
      "\n",
      " [[211 207]]\n",
      "\n",
      " [[210 206]]\n",
      "\n",
      " [[210 197]]\n",
      "\n",
      " [[211 196]]\n",
      "\n",
      " [[214 196]]\n",
      "\n",
      " [[215 195]]\n",
      "\n",
      " [[216 195]]\n",
      "\n",
      " [[216 185]]\n",
      "\n",
      " [[215 184]]\n",
      "\n",
      " [[213 184]]\n",
      "\n",
      " [[209 180]]\n",
      "\n",
      " [[209 179]]\n",
      "\n",
      " [[208 178]]\n",
      "\n",
      " [[208 167]]\n",
      "\n",
      " [[207 166]]\n",
      "\n",
      " [[207 153]]\n",
      "\n",
      " [[208 152]]\n",
      "\n",
      " [[208 144]]\n",
      "\n",
      " [[209 143]]\n",
      "\n",
      " [[209 140]]\n",
      "\n",
      " [[210 139]]\n",
      "\n",
      " [[210 137]]\n",
      "\n",
      " [[211 136]]\n",
      "\n",
      " [[211 135]]\n",
      "\n",
      " [[213 133]]\n",
      "\n",
      " [[213 131]]\n",
      "\n",
      " [[214 130]]\n",
      "\n",
      " [[214 129]]\n",
      "\n",
      " [[215 128]]\n",
      "\n",
      " [[215 112]]\n",
      "\n",
      " [[214 111]]\n",
      "\n",
      " [[214 106]]\n",
      "\n",
      " [[213 105]]\n",
      "\n",
      " [[213 102]]\n",
      "\n",
      " [[212 101]]\n",
      "\n",
      " [[212 100]]\n",
      "\n",
      " [[211  99]]\n",
      "\n",
      " [[211  97]]\n",
      "\n",
      " [[210  96]]\n",
      "\n",
      " [[210  85]]\n",
      "\n",
      " [[209  84]]\n",
      "\n",
      " [[209  78]]\n",
      "\n",
      " [[208  77]]\n",
      "\n",
      " [[208  75]]\n",
      "\n",
      " [[207  74]]\n",
      "\n",
      " [[207  73]]\n",
      "\n",
      " [[206  72]]\n",
      "\n",
      " [[206  71]]\n",
      "\n",
      " [[204  69]]\n",
      "\n",
      " [[204  68]]\n",
      "\n",
      " [[203  67]]\n",
      "\n",
      " [[202  67]]\n",
      "\n",
      " [[201  66]]\n",
      "\n",
      " [[193  66]]\n",
      "\n",
      " [[190  69]]\n",
      "\n",
      " [[190  71]]\n",
      "\n",
      " [[189  72]]\n",
      "\n",
      " [[189  82]]\n",
      "\n",
      " [[188  83]]\n",
      "\n",
      " [[187  83]]\n",
      "\n",
      " [[180  76]]\n",
      "\n",
      " [[179  76]]\n",
      "\n",
      " [[176  73]]\n",
      "\n",
      " [[176  72]]\n",
      "\n",
      " [[172  68]]\n",
      "\n",
      " [[172  67]]\n",
      "\n",
      " [[171  66]]\n",
      "\n",
      " [[171  65]]\n",
      "\n",
      " [[170  64]]\n",
      "\n",
      " [[169  64]]\n",
      "\n",
      " [[167  62]]\n",
      "\n",
      " [[167  60]]\n",
      "\n",
      " [[166  59]]\n",
      "\n",
      " [[166  57]]\n",
      "\n",
      " [[165  56]]\n",
      "\n",
      " [[165  52]]\n",
      "\n",
      " [[164  51]]\n",
      "\n",
      " [[164  50]]\n",
      "\n",
      " [[163  49]]\n",
      "\n",
      " [[163  40]]\n",
      "\n",
      " [[162  39]]\n",
      "\n",
      " [[162  35]]\n",
      "\n",
      " [[161  34]]\n",
      "\n",
      " [[161  32]]]\n"
     ]
    }
   ],
   "source": [
    "print(contours[0])"
   ]
  },
  {
   "cell_type": "code",
   "execution_count": 169,
   "metadata": {},
   "outputs": [
    {
     "data": {
      "image/png": "[encoded data removed]",
      "text/plain": [
       "<Figure size 432x288 with 1 Axes>"
      ]
     },
     "metadata": {},
     "output_type": "display_data"
    }
   ],
   "source": [
    "imgplot = plt.imshow(im2)"
   ]
  },
  {
   "cell_type": "code",
   "execution_count": 170,
   "metadata": {},
   "outputs": [],
   "source": [
    "contours_list = list(contours)"
   ]
  },
  {
   "cell_type": "code",
   "execution_count": 171,
   "metadata": {},
   "outputs": [
    {
     "data": {
      "text/plain": [
       "array([153,  34], dtype=int32)"
      ]
     },
     "execution_count": 171,
     "metadata": {},
     "output_type": "execute_result"
    }
   ],
   "source": [
    "contours_list[0][1][0]"
   ]
  },
  {
   "cell_type": "code",
   "execution_count": 172,
   "metadata": {},
   "outputs": [],
   "source": [
    "c = max(contours, key=cv2.contourArea)"
   ]
  },
  {
   "cell_type": "code",
   "execution_count": 173,
   "metadata": {},
   "outputs": [],
   "source": [
    "\n",
    "# determine the most extreme points along the contour\n",
    "extLeft = tuple(c[c[:, :, 0].argmin()][0])\n",
    "extRight = tuple(c[c[:, :, 0].argmax()][0])\n",
    "extTop = tuple(c[c[:, :, 1].argmin()][0])\n",
    "extBot = tuple(c[c[:, :, 1].argmax()][0])"
   ]
  },
  {
   "cell_type": "code",
   "execution_count": 174,
   "metadata": {},
   "outputs": [
    {
     "data": {
      "text/plain": [
       "(153, 32)"
      ]
     },
     "execution_count": 174,
     "metadata": {},
     "output_type": "execute_result"
    }
   ],
   "source": [
    "extTop"
   ]
  },
  {
   "cell_type": "code",
   "execution_count": 175,
   "metadata": {},
   "outputs": [
    {
     "data": {
      "text/plain": [
       "(216, 195)"
      ]
     },
     "execution_count": 175,
     "metadata": {},
     "output_type": "execute_result"
    }
   ],
   "source": [
    "extRight"
   ]
  },
  {
   "cell_type": "code",
   "execution_count": 176,
   "metadata": {},
   "outputs": [],
   "source": [
    "\n",
    "# draw the outline of the object, then draw each of the\n",
    "# extreme points, where the left-most is red, right-most\n",
    "# is green, top-most is blue, and bottom-most is teal\n",
    "cv2.drawContours(image, [c], -1, (0, 255, 255), 2)\n",
    "cv2.circle(image, extLeft, 8, (0, 0, 255), -1)\n",
    "cv2.circle(image, extRight, 8, (0, 255, 0), -1)\n",
    "cv2.circle(image, extTop, 8, (255, 0, 0), -1)\n",
    "cv2.circle(image, extBot, 8, (255, 255, 0), -1)\n",
    " \n",
    "# show the output image\n",
    "cv2.imshow(\"Image\", image)\n",
    "cv2.waitKey(0)\n",
    "cv2.destroyAllWindows()"
   ]
  },
  {
   "cell_type": "code",
   "execution_count": 177,
   "metadata": {},
   "outputs": [],
   "source": [
    "blank = int(extTop[1])"
   ]
  },
  {
   "cell_type": "code",
   "execution_count": 178,
   "metadata": {},
   "outputs": [],
   "source": [
    "body = image[blank:-20]\n",
    "neck = body[0:int(0.4*len(body))]\n",
    "back = body[int(0.4*len(body)):]\n",
    "full_cut = blank+int(0.4*len(body))"
   ]
  },
  {
   "cell_type": "code",
   "execution_count": 179,
   "metadata": {},
   "outputs": [
    {
     "name": "stdout",
     "output_type": "stream",
     "text": [
      "138\n"
     ]
    }
   ],
   "source": [
    "print(full_cut)"
   ]
  },
  {
   "cell_type": "code",
   "execution_count": 180,
   "metadata": {},
   "outputs": [],
   "source": [
    "cv2.imshow(\"Neck\",neck)\n",
    "cv2.waitKey(0)\n",
    "cv2.destroyAllWindows()\n",
    "\n",
    "\n",
    "cv2.imshow(\"back\",back)\n",
    "cv2.waitKey(0)\n",
    "cv2.destroyAllWindows()"
   ]
  },
  {
   "cell_type": "code",
   "execution_count": 181,
   "metadata": {},
   "outputs": [],
   "source": [
    "cont_list = np.ndarray.tolist(contours[0])"
   ]
  },
  {
   "cell_type": "code",
   "execution_count": 182,
   "metadata": {},
   "outputs": [
    {
     "data": {
      "text/plain": [
       "list"
      ]
     },
     "execution_count": 182,
     "metadata": {},
     "output_type": "execute_result"
    }
   ],
   "source": [
    "type(cont_list[0][0])"
   ]
  },
  {
   "cell_type": "code",
   "execution_count": 183,
   "metadata": {},
   "outputs": [],
   "source": [
    "back_point_list = []"
   ]
  },
  {
   "cell_type": "code",
   "execution_count": 184,
   "metadata": {},
   "outputs": [
    {
     "data": {
      "text/plain": [
       "318"
      ]
     },
     "execution_count": 184,
     "metadata": {},
     "output_type": "execute_result"
    }
   ],
   "source": [
    "len(image)"
   ]
  },
  {
   "cell_type": "code",
   "execution_count": 185,
   "metadata": {},
   "outputs": [],
   "source": [
    "for i in cont_list:\n",
    "    if i[0][1] > len(image)-20:\n",
    "        break\n",
    "        print(\"broke\")\n",
    "    if i[0][1] > 36:\n",
    "        back_point_list.append(i[0][0])"
   ]
  },
  {
   "cell_type": "code",
   "execution_count": 186,
   "metadata": {},
   "outputs": [
    {
     "data": {
      "text/plain": [
       "[152,\n",
       " 151,\n",
       " 150,\n",
       " 149,\n",
       " 149,\n",
       " 138,\n",
       " 138,\n",
       " 139,\n",
       " 139,\n",
       " 140,\n",
       " 140,\n",
       " 141,\n",
       " 141,\n",
       " 142,\n",
       " 142,\n",
       " 143,\n",
       " 143,\n",
       " 146,\n",
       " 147,\n",
       " 148,\n",
       " 149,\n",
       " 151,\n",
       " 152,\n",
       " 153,\n",
       " 154,\n",
       " 156,\n",
       " 157,\n",
       " 158,\n",
       " 159,\n",
       " 161,\n",
       " 161,\n",
       " 163,\n",
       " 163,\n",
       " 164,\n",
       " 164,\n",
       " 165,\n",
       " 165,\n",
       " 166,\n",
       " 166,\n",
       " 167,\n",
       " 167,\n",
       " 168,\n",
       " 168,\n",
       " 169,\n",
       " 169,\n",
       " 170,\n",
       " 170,\n",
       " 169,\n",
       " 169,\n",
       " 168,\n",
       " 168,\n",
       " 167,\n",
       " 167,\n",
       " 166,\n",
       " 166,\n",
       " 165,\n",
       " 165,\n",
       " 164,\n",
       " 164,\n",
       " 163,\n",
       " 163,\n",
       " 162,\n",
       " 162,\n",
       " 161,\n",
       " 161,\n",
       " 160,\n",
       " 160,\n",
       " 159,\n",
       " 159,\n",
       " 158,\n",
       " 158,\n",
       " 157,\n",
       " 157,\n",
       " 156,\n",
       " 156,\n",
       " 155,\n",
       " 155,\n",
       " 154,\n",
       " 154,\n",
       " 153,\n",
       " 153,\n",
       " 152,\n",
       " 152,\n",
       " 151,\n",
       " 151,\n",
       " 150,\n",
       " 150,\n",
       " 149,\n",
       " 149,\n",
       " 148,\n",
       " 148,\n",
       " 147,\n",
       " 147,\n",
       " 146,\n",
       " 146,\n",
       " 145,\n",
       " 145,\n",
       " 144,\n",
       " 144,\n",
       " 143,\n",
       " 143,\n",
       " 142,\n",
       " 142,\n",
       " 141]"
      ]
     },
     "execution_count": 186,
     "metadata": {},
     "output_type": "execute_result"
    }
   ],
   "source": [
    "back_point_list"
   ]
  },
  {
   "cell_type": "code",
   "execution_count": 187,
   "metadata": {},
   "outputs": [
    {
     "data": {
      "text/plain": [
       "[<matplotlib.lines.Line2D at 0x7f0949a11cc0>]"
      ]
     },
     "execution_count": 187,
     "metadata": {},
     "output_type": "execute_result"
    },
    {
     "data": {
      "image/png": "[encoded data removed]",
      "text/plain": [
       "<Figure size 432x288 with 1 Axes>"
      ]
     },
     "metadata": {},
     "output_type": "display_data"
    }
   ],
   "source": [
    "plt.plot(back_point_list)\n",
    "    "
   ]
  },
  {
   "cell_type": "code",
   "execution_count": 188,
   "metadata": {},
   "outputs": [
    {
     "data": {
      "text/plain": [
       "9.400931897302241"
      ]
     },
     "execution_count": 188,
     "metadata": {},
     "output_type": "execute_result"
    }
   ],
   "source": [
    "statistics.stdev(back_point_list)"
   ]
  },
  {
   "cell_type": "code",
   "execution_count": null,
   "metadata": {},
   "outputs": [],
   "source": []
  },
  {
   "cell_type": "code",
   "execution_count": null,
   "metadata": {},
   "outputs": [],
   "source": []
  }
 ],
 "metadata": {
  "kernelspec": {
   "display_name": "Python 3",
   "language": "python",
   "name": "python3"
  },
  "language_info": {
   "codemirror_mode": {
    "name": "ipython",
    "version": 3
   },
   "file_extension": ".py",
   "mimetype": "text/x-python",
   "name": "python",
   "nbconvert_exporter": "python",
   "pygments_lexer": "ipython3",
   "version": "3.6.6"
  }
 },
 "nbformat": 4,
 "nbformat_minor": 2
}
